{
 "cells": [
  {
   "cell_type": "markdown",
   "metadata": {},
   "source": [
    "# Suppose the course grade is based on 30 assignments (each scored 0 to 100), three projects (each scored 0 to 100),\n",
    "# and attendance in 15 classes (each scored as present or absent). The assignments account for 30% of the course grade,\n",
    "# the projects are 20% each (60% total), and attendance is 10% of the course grade. Suppose 10 of the 30 assignments \n",
    "# are included in the final course score. The 10 are randomly selected.\n",
    "# Write a program in Python 3 that calculates the final numeric course score on a 0 to 100 scale for a student"
   ]
  },
  {
   "cell_type": "code",
   "execution_count": 9,
   "metadata": {},
   "outputs": [
    {
     "name": "stdout",
     "output_type": "stream",
     "text": [
      "67.75666666666667\n",
      "D\n"
     ]
    }
   ],
   "source": [
    "import random\n",
    "\n",
    "\n",
    "def Calculate_Percentage(cgrades, pscores, ascores):\n",
    "    chosenAssignments=random.choices(cgrades,k=10)# Generating 10 random values from list of 30 assignments\n",
    "    Total_Percent = (30*(sum(chosenAssignments)/1000))+(20*(pscores[0]/100))+(20*(pscores[1]/100))+(20*(pscores[2]/100))+(10*(sum(ascores)/15)) #Weighted_Percentage Calculation\n",
    "    print(Total_Percent)\n",
    "    return FinalGrade(Total_Percent) # calling function\n",
    "\n",
    "def FinalGrade(Final_Grade): # function for returning letter grades\n",
    "    if(90<=Final_Grade<=100):\n",
    "        return \"A\"\n",
    "    elif(80<=Final_Grade<=89):\n",
    "        return \"B\"\n",
    "    elif(70 <= Final_Grade <= 79):\n",
    "        return \"C\"\n",
    "    elif(60 <= Final_Grade <= 69):\n",
    "        return \"D\"\n",
    "    else:\n",
    "        return \"F\"\n",
    "\n",
    "if __name__ == \"__main__\":\n",
    "    cgrades =[] #initializing a list to hold 30 assignments values\n",
    "    pscores =[] #initializing a list to hold 3 projects\n",
    "    ascores =[] #initializing a list to hold attendance for 15 classes\n",
    "    k=[0,1] #taking present as \" 1\" and absent as \"0\"\n",
    "    for assignments in range(30): # Generating 30 random values for 30 assignments\n",
    "        cgrades.append(random.randint(0, 100))# adding values to list\n",
    "    for projects in range(3): #Generating 3 random values for 3 projects\n",
    "        pscores.append(random.randint(0, 100))# adding values to list\n",
    "    for attendance in range(15): # Generating 15 chosen values of 0 OR 1 randomly.\n",
    "        ascores.append(random.choice(k))# adding values to list\n",
    "    print(Calculate_Percentage(cgrades, pscores, ascores))# calling function"
   ]
  },
  {
   "cell_type": "code",
   "execution_count": null,
   "metadata": {},
   "outputs": [],
   "source": []
  },
  {
   "cell_type": "code",
   "execution_count": null,
   "metadata": {},
   "outputs": [],
   "source": []
  }
 ],
 "metadata": {
  "kernelspec": {
   "display_name": "Python 3",
   "language": "python",
   "name": "python3"
  },
  "language_info": {
   "codemirror_mode": {
    "name": "ipython",
    "version": 3
   },
   "file_extension": ".py",
   "mimetype": "text/x-python",
   "name": "python",
   "nbconvert_exporter": "python",
   "pygments_lexer": "ipython3",
   "version": "3.7.4"
  }
 },
 "nbformat": 4,
 "nbformat_minor": 2
}
